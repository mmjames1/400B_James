{
 "cells": [
  {
   "cell_type": "code",
   "execution_count": 1,
   "metadata": {},
   "outputs": [],
   "source": [
    "##import Modules\n",
    "\n",
    "# Load Modules\n",
    "import numpy as np\n",
    "import astropy.units as u\n",
    "\n",
    "# import plotting modules\n",
    "import matplotlib.pyplot as plt\n",
    "import matplotlib\n",
    "from matplotlib.colors import LogNorm\n",
    "#from mpl_toolkits.mplot3d import Axes3D\n",
    "#from matplotlib import cm\n",
    "%matplotlib inline\n",
    "\n",
    "# my modules\n",
    "from ReadFile import Read\n",
    "from CenterOfMass import CenterOfMass\n",
    "from MassProfile import MassProfile"
   ]
  },
  {
   "cell_type": "code",
   "execution_count": 2,
   "metadata": {},
   "outputs": [],
   "source": [
    "#what I want to work on the most right now is getting my sersic files to work at all snapshots\n",
    "\n",
    "#end profile- snap 800\n",
    "\n",
    "#COM Data for MW Disk\n",
    "COM_MW = CenterOfMass(\"MW_VLowRes/MW_800.txt\",2)\n",
    "#COM Data for M31 Disk\n",
    "COM_M31 = CenterOfMass(\"M31_VLowRes/M31_800.txt\",2)\n",
    "\n",
    "#COM position by Galaxy\n",
    "#MW\n",
    "COMP_MW = COM_MW.COM_P(0.1)\n",
    "#M31\n",
    "COMP_M31 = COM_M31.COM_P(0.1)\n",
    "\n",
    "#just the position based on the coordinates from CenterofMass outplut\n",
    "MWx = COM_MW.x-COMP_MW[0].value\n",
    "MWy = COM_MW.y-COMP_MW[1].value\n",
    "M31x = COM_M31.x-COMP_M31[0].value\n",
    "M31y = COM_M31.y-COMP_M31[1].value\n",
    "\n",
    "#Sersic Function\n",
    "def SersicE(R,Re,n,Mtot):\n",
    "#inputs:\n",
    "    #R - the radius (units: kpc)\n",
    "    #Re- the half light radius (units: kpc)\n",
    "    #n - Sercic Index\n",
    "    #Mtot - total stellar mass of the system (untis: Msun)\n",
    "#Returns:\n",
    "    #Surface brightness profile (units: Lsun/kpc^2)\n",
    "    \n",
    "    #assume mass to light = 1\n",
    "    L = Mtot #total luminosity = total stellar mass\n",
    "    \n",
    "    #from equation above for Ie\n",
    "    Ie = L/7.2/np.pi/Re**2\n",
    "    \n",
    "    #exponent term\n",
    "    A = (R/Re)**(1/n)-1\n",
    "    \n",
    "    return Ie*np.exp(-7.67*A)\n",
    "\n",
    "\n",
    "#add together\n",
    "#Both_StellarI = np.concatenate((MW_StellarI,M31_StellarI),axis=0)\n"
   ]
  },
  {
   "cell_type": "code",
   "execution_count": 25,
   "metadata": {},
   "outputs": [],
   "source": [
    "MW = MassProfile(\"MW_VLowRes/MW\",405)\n",
    "M31 = MassProfile(\"M31_VLowRes/M31\",405)\n",
    "\n",
    "#create an array of radii\n",
    "r = np.arange(0.1,30.0,0.1)\n",
    "\n",
    "#create mass profile of the stellar mass of both galaxies\n",
    "#use particle type 2 for this then\n",
    "MW_StellarMass = MW.MassEnclosed(2,r)\n",
    "M31_StellarMass = M31.MassEnclosed(2,r)\n",
    "\n",
    "\n",
    "#compute surface mass density profile, assuming M/L ~ 1\n",
    "#I = L/4 pi D^2\n",
    "#note- spherical, may not be appropriate for a disk\n",
    "MW_StellarI = MW_StellarMass/4/np.pi/r**2\n",
    "M31_StellarI = M31_StellarMass/4/np.pi/r**2"
   ]
  },
  {
   "cell_type": "code",
   "execution_count": 26,
   "metadata": {},
   "outputs": [],
   "source": [
    "#compute half mass radius\n",
    "#total mass of stellar disk\n",
    "MW_StellarTotal = np.max(MW_StellarMass)\n",
    "M31_StellarTotal = np.max(M31_StellarMass)\n",
    "#find half mass radius by finding where mass drops by factor of 1/2\n",
    "MW_Low = MW_StellarTotal/2\n",
    "MW_High = MW_StellarTotal/2 + MW_StellarTotal/2*0.01\n",
    "M31_Low = M31_StellarTotal/2\n",
    "M31_High = M31_StellarTotal/2 + M31_StellarTotal/2*0.01\n",
    "\n",
    "#index for both galaxies\n",
    "index_MW = np.where((MW_StellarMass > MW_Low) & (MW_StellarMass < MW_High))\n",
    "index_M31 = np.where((M31_StellarMass > M31_Low) & (M31_StellarMass < M31_High))\n",
    "\n",
    "ReMW = r[index_MW]\n",
    "ReM31 = r[index_M31]"
   ]
  },
  {
   "cell_type": "code",
   "execution_count": 31,
   "metadata": {},
   "outputs": [
    {
     "name": "stdout",
     "output_type": "stream",
     "text": [
      "71986000000.00003 solMass\n",
      "112664000000.00003 solMass\n"
     ]
    }
   ],
   "source": [
    "#405 snap value this and below through 30\n",
    "print(MW_StellarTotal)\n",
    "print(M31_StellarTotal)"
   ]
  },
  {
   "cell_type": "code",
   "execution_count": 32,
   "metadata": {},
   "outputs": [
    {
     "name": "stdout",
     "output_type": "stream",
     "text": [
      "35993000000.000015 solMass\n",
      "36352930000.000015 solMass\n",
      "56332000000.000015 solMass\n",
      "56895320000.000015 solMass\n"
     ]
    }
   ],
   "source": [
    "print(MW_Low)\n",
    "print(MW_High)\n",
    "print(M31_Low)\n",
    "print(M31_High)"
   ]
  },
  {
   "cell_type": "code",
   "execution_count": 37,
   "metadata": {},
   "outputs": [
    {
     "name": "stdout",
     "output_type": "stream",
     "text": [
      "(array([], dtype=int64),)\n",
      "(array([68, 69]),)\n"
     ]
    }
   ],
   "source": [
    "print(index_MW)\n",
    "print(index_M31)"
   ]
  },
  {
   "cell_type": "code",
   "execution_count": 30,
   "metadata": {},
   "outputs": [
    {
     "name": "stdout",
     "output_type": "stream",
     "text": [
      "[]\n",
      "[6.9 7. ]\n"
     ]
    }
   ],
   "source": [
    "print(ReMW)\n",
    "print(ReM31)"
   ]
  },
  {
   "cell_type": "code",
   "execution_count": null,
   "metadata": {},
   "outputs": [],
   "source": []
  },
  {
   "cell_type": "code",
   "execution_count": null,
   "metadata": {},
   "outputs": [],
   "source": []
  },
  {
   "cell_type": "code",
   "execution_count": 20,
   "metadata": {},
   "outputs": [
    {
     "name": "stdout",
     "output_type": "stream",
     "text": [
      "59748000000.000015 solMass\n"
     ]
    }
   ],
   "source": [
    "#800 snap value this and below through 24\n",
    "print(MW_StellarTotal)"
   ]
  },
  {
   "cell_type": "code",
   "execution_count": 21,
   "metadata": {},
   "outputs": [
    {
     "name": "stdout",
     "output_type": "stream",
     "text": [
      "29874000000.000008 solMass\n",
      "30172740000.000008 solMass\n"
     ]
    }
   ],
   "source": [
    "print(MW_Low)\n",
    "print(MW_High)"
   ]
  },
  {
   "cell_type": "code",
   "execution_count": 22,
   "metadata": {},
   "outputs": [
    {
     "name": "stdout",
     "output_type": "stream",
     "text": [
      "(array([68]),)\n"
     ]
    }
   ],
   "source": [
    "print(index_MW)"
   ]
  },
  {
   "cell_type": "code",
   "execution_count": 23,
   "metadata": {},
   "outputs": [
    {
     "name": "stdout",
     "output_type": "stream",
     "text": [
      "[6.9]\n"
     ]
    }
   ],
   "source": [
    "print(ReMW)"
   ]
  },
  {
   "cell_type": "code",
   "execution_count": 24,
   "metadata": {},
   "outputs": [
    {
     "name": "stdout",
     "output_type": "stream",
     "text": [
      "[8.6]\n"
     ]
    }
   ],
   "source": [
    "print(ReM31)"
   ]
  },
  {
   "cell_type": "code",
   "execution_count": null,
   "metadata": {},
   "outputs": [],
   "source": []
  },
  {
   "cell_type": "code",
   "execution_count": null,
   "metadata": {},
   "outputs": [],
   "source": []
  },
  {
   "cell_type": "code",
   "execution_count": null,
   "metadata": {},
   "outputs": [],
   "source": [
    "#plotting with position on the left and sersic profile on the right\n",
    "fig, ax = plt.subplots(nrows=1, ncols=2, figsize =(20 ,10)) \n",
    "\n",
    "ax[0].hist2d(MWx,MWy, bins=150, norm=LogNorm(),cmap='magma')\n",
    "ax[0].hist2d(M31x,M31y, bins=150, norm=LogNorm(),cmap='magma' )\n",
    "#plt.colorbar()\n",
    "# Add axis labels\n",
    "ax[0].set_xlabel('x (kpc)', fontsize=22)\n",
    "ax[0].set_ylabel('y (kpc)', fontsize=22)\n",
    "#set axis limits\n",
    "ax[0].set_ylim(-200,200)\n",
    "ax[0].set_xlim(-200,200)\n",
    "\n",
    "#plot disk luminosity density- this is a proxy for surface density\n",
    "ax[1].semilogy(r,MW_StellarI, color='blue',linewidth=3,label = \"MW Disk Particles\")\n",
    "ax[1].semilogy(r,M31_StellarI, color='red', linewidth = 3, label = \"M31 Disk Particles\")\n",
    "#ax[1].semilogy(r,Both_StellarI, color='purple', linewidth=3, label = \"All particles\")\n",
    "#Sersic\n",
    "ax[1].semilogy(r,SersicE(r, ReMW, 4, MW_StellarTotal), color = 'black', linestyle = '--',\n",
    "            linewidth = 3, label = 'Sersic n=4, Elliptical')\n",
    "\n",
    "ax[1].semilogy(r,SersicE(r, ReMW, 1, MW_StellarTotal), color = 'black', linestyle = ':',\n",
    "            linewidth = 3, label = 'Sersic n=1, Spiral')\n",
    "# Add axis labels\n",
    "ax[1].set_xlabel('Radius (kpc)', fontsize=22)\n",
    "ax[1].set_ylabel('Log(I)  $L_\\odot/kpc^2$', fontsize=22)\n",
    "#limit on the yscale\n",
    "ax[1].set_ylim(1e5,1e11)\n",
    "\n",
    "legend = ax[1].legend(loc='upper right',fontsize='x-large')\n",
    "\n",
    "fig.savefig(\"Sample_Plot.png\")"
   ]
  }
 ],
 "metadata": {
  "kernelspec": {
   "display_name": "Python 3",
   "language": "python",
   "name": "python3"
  },
  "language_info": {
   "codemirror_mode": {
    "name": "ipython",
    "version": 3
   },
   "file_extension": ".py",
   "mimetype": "text/x-python",
   "name": "python",
   "nbconvert_exporter": "python",
   "pygments_lexer": "ipython3",
   "version": "3.7.4"
  }
 },
 "nbformat": 4,
 "nbformat_minor": 2
}
